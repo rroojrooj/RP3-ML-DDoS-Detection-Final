{
 "cells": [
  {
   "cell_type": "code",
   "execution_count": 19,
   "metadata": {},
   "outputs": [],
   "source": [
    "import os\n",
    "import papermill as pm\n",
    "from datetime import datetime"
   ]
  },
  {
   "cell_type": "code",
   "execution_count": null,
   "metadata": {},
   "outputs": [],
   "source": [
    "# Define folder paths\n",
    "DATASET_FOLDER = \"//Users/book_kuno/Desktop/Final/ML_System/ddos_datasets/2018.csv\"\n",
    "MODEL_FOLDER = \"/Users/book_kuno/Desktop/Final/ML_System/models\"\n",
    "RESULTS_FOLDER = \"/Users/book_kuno/Desktop/Final/ML_System/results\"\n",
    "\n",
    "# Create the results folder if it doesn't exist\n",
    "if not os.path.exists(RESULTS_FOLDER):\n",
    "    os.makedirs(RESULTS_FOLDER)\n"
   ]
  },
  {
   "cell_type": "code",
   "execution_count": 21,
   "metadata": {},
   "outputs": [],
   "source": [
    "# Create a new sub-folder for this run with a timestamp\n",
    "timestamp = datetime.now().strftime(\"%Y%m%d_%H%M%S\")\n",
    "run_results_folder = os.path.join(RESULTS_FOLDER, f\"run_{timestamp}\")\n",
    "os.makedirs(run_results_folder, exist_ok=True)"
   ]
  },
  {
   "cell_type": "code",
   "execution_count": null,
   "metadata": {},
   "outputs": [],
   "source": [
    "# Get list of dataset files (assuming CSV files)\n",
    "dataset_path = DATASET_FOLDER  # Use this variable directly\n",
    "sample_fraction = 0.03  # or any value you want to use universally\n"
   ]
  },
  {
   "cell_type": "code",
   "execution_count": 23,
   "metadata": {},
   "outputs": [
    {
     "name": "stdout",
     "output_type": "stream",
     "text": [
      "Notebooks found: ['svm_int.ipynb', 'LSTM_imp.ipynb', 'logistic-regression_imp 1.ipynb', 'k-means_seeded_imp.ipynb', 'rfc_int.ipynb', '1DCNN_int.ipynb', 'k-means_imp.ipynb']\n"
     ]
    }
   ],
   "source": [
    "# Get list of model notebooks (all .ipynb files in MODEL_FOLDER)\n",
    "notebooks = [f for f in os.listdir(MODEL_FOLDER) if f.endswith(\".ipynb\")]\n",
    "\n",
    "# Debug prints to confirm that the lists are populated\n",
    "# print(\"Datasets found:\", datasets, flush=True)\n",
    "print(\"Notebooks found:\", notebooks, flush=True)\n"
   ]
  },
  {
   "cell_type": "code",
   "execution_count": 24,
   "metadata": {},
   "outputs": [
    {
     "name": "stdout",
     "output_type": "stream",
     "text": [
      "Executing /Users/book_kuno/Desktop/ML_Evaluation/models/svm_int.ipynb with dataset /Users/book_kuno/Desktop/ddos_datasets/2018.csv and sample_fraction 0.03...\n"
     ]
    },
    {
     "data": {
      "application/vnd.jupyter.widget-view+json": {
       "model_id": "33d3a357186346c0a4e6b870194f22ec",
       "version_major": 2,
       "version_minor": 0
      },
      "text/plain": [
       "Executing:   0%|          | 0/14 [00:00<?, ?cell/s]"
      ]
     },
     "metadata": {},
     "output_type": "display_data"
    },
    {
     "name": "stderr",
     "output_type": "stream",
     "text": [
      "0.00s - Debugger warning: It seems that frozen modules are being used, which may\n",
      "0.00s - make the debugger miss breakpoints. Please pass -Xfrozen_modules=off\n",
      "0.00s - to python to disable frozen modules.\n",
      "0.00s - Note: Debugging will proceed. Set PYDEVD_DISABLE_FILE_VALIDATION=1 to disable this validation.\n"
     ]
    },
    {
     "name": "stdout",
     "output_type": "stream",
     "text": [
      "Finished executing /Users/book_kuno/Desktop/ML_Evaluation/models/svm_int.ipynb. Output saved to /Users/book_kuno/Desktop/ML_Evaluation/results/run_20250322_220342/svm_int_executed.ipynb.\n",
      "Executing /Users/book_kuno/Desktop/ML_Evaluation/models/LSTM_imp.ipynb with dataset /Users/book_kuno/Desktop/ddos_datasets/2018.csv and sample_fraction 0.03...\n"
     ]
    },
    {
     "data": {
      "application/vnd.jupyter.widget-view+json": {
       "model_id": "19836ea72c4648db91469dd244e32f61",
       "version_major": 2,
       "version_minor": 0
      },
      "text/plain": [
       "Executing:   0%|          | 0/14 [00:00<?, ?cell/s]"
      ]
     },
     "metadata": {},
     "output_type": "display_data"
    },
    {
     "name": "stderr",
     "output_type": "stream",
     "text": [
      "0.00s - Debugger warning: It seems that frozen modules are being used, which may\n",
      "0.00s - make the debugger miss breakpoints. Please pass -Xfrozen_modules=off\n",
      "0.00s - to python to disable frozen modules.\n",
      "0.00s - Note: Debugging will proceed. Set PYDEVD_DISABLE_FILE_VALIDATION=1 to disable this validation.\n",
      "2025-03-22 22:05:11.285183: I tensorflow/core/platform/cpu_feature_guard.cc:210] This TensorFlow binary is optimized to use available CPU instructions in performance-critical operations.\n",
      "To enable the following instructions: AVX2 FMA, in other operations, rebuild TensorFlow with the appropriate compiler flags.\n"
     ]
    },
    {
     "name": "stdout",
     "output_type": "stream",
     "text": [
      "Finished executing /Users/book_kuno/Desktop/ML_Evaluation/models/LSTM_imp.ipynb. Output saved to /Users/book_kuno/Desktop/ML_Evaluation/results/run_20250322_220342/LSTM_imp_executed.ipynb.\n",
      "Executing /Users/book_kuno/Desktop/ML_Evaluation/models/logistic-regression_imp 1.ipynb with dataset /Users/book_kuno/Desktop/ddos_datasets/2018.csv and sample_fraction 0.03...\n"
     ]
    },
    {
     "data": {
      "application/vnd.jupyter.widget-view+json": {
       "model_id": "7e5567e47dfc4f02be6f47e4f3e8282c",
       "version_major": 2,
       "version_minor": 0
      },
      "text/plain": [
       "Executing:   0%|          | 0/15 [00:00<?, ?cell/s]"
      ]
     },
     "metadata": {},
     "output_type": "display_data"
    },
    {
     "name": "stderr",
     "output_type": "stream",
     "text": [
      "0.00s - Debugger warning: It seems that frozen modules are being used, which may\n",
      "0.00s - make the debugger miss breakpoints. Please pass -Xfrozen_modules=off\n",
      "0.00s - to python to disable frozen modules.\n",
      "0.00s - Note: Debugging will proceed. Set PYDEVD_DISABLE_FILE_VALIDATION=1 to disable this validation.\n",
      "Passed unknown parameter: sample_fraction\n"
     ]
    },
    {
     "name": "stdout",
     "output_type": "stream",
     "text": [
      "Error executing /Users/book_kuno/Desktop/ML_Evaluation/models/logistic-regression_imp 1.ipynb with /Users/book_kuno/Desktop/ddos_datasets/2018.csv: \n",
      "---------------------------------------------------------------------------\n",
      "Exception encountered at \"In [9]\":\n",
      "---------------------------------------------------------------------------\n",
      "ValueError                                Traceback (most recent call last)\n",
      "Cell In[9], line 3\n",
      "      1 # %% [code]\n",
      "      2 # Split the data into Training and Testing Sets (80/20 split)\n",
      "----> 3 X_train, X_test, y_train, y_test = train_test_split(\n",
      "      4     X_scaled, y, test_size=0.20, stratify=y, random_state=42\n",
      "      5 )\n",
      "      6 print(\"Training set shape:\", X_train.shape)\n",
      "      7 print(\"Test set shape:\", X_test.shape)\n",
      "\n",
      "File ~/anaconda3/lib/python3.11/site-packages/sklearn/utils/_param_validation.py:211, in validate_params.<locals>.decorator.<locals>.wrapper(*args, **kwargs)\n",
      "    205 try:\n",
      "    206     with config_context(\n",
      "    207         skip_parameter_validation=(\n",
      "    208             prefer_skip_nested_validation or global_skip_validation\n",
      "    209         )\n",
      "    210     ):\n",
      "--> 211         return func(*args, **kwargs)\n",
      "    212 except InvalidParameterError as e:\n",
      "    213     # When the function is just a wrapper around an estimator, we allow\n",
      "    214     # the function to delegate validation to the estimator, but we replace\n",
      "    215     # the name of the estimator by the name of the function in the error\n",
      "    216     # message to avoid confusion.\n",
      "    217     msg = re.sub(\n",
      "    218         r\"parameter of \\w+ must be\",\n",
      "    219         f\"parameter of {func.__qualname__} must be\",\n",
      "    220         str(e),\n",
      "    221     )\n",
      "\n",
      "File ~/anaconda3/lib/python3.11/site-packages/sklearn/model_selection/_split.py:2638, in train_test_split(test_size, train_size, random_state, shuffle, stratify, *arrays)\n",
      "   2634         CVClass = ShuffleSplit\n",
      "   2636     cv = CVClass(test_size=n_test, train_size=n_train, random_state=random_state)\n",
      "-> 2638     train, test = next(cv.split(X=arrays[0], y=stratify))\n",
      "   2640 return list(\n",
      "   2641     chain.from_iterable(\n",
      "   2642         (_safe_indexing(a, train), _safe_indexing(a, test)) for a in arrays\n",
      "   2643     )\n",
      "   2644 )\n",
      "\n",
      "File ~/anaconda3/lib/python3.11/site-packages/sklearn/model_selection/_split.py:1726, in BaseShuffleSplit.split(self, X, y, groups)\n",
      "   1696 \"\"\"Generate indices to split data into training and test set.\n",
      "   1697 \n",
      "   1698 Parameters\n",
      "   (...)\n",
      "   1723 to an integer.\n",
      "   1724 \"\"\"\n",
      "   1725 X, y, groups = indexable(X, y, groups)\n",
      "-> 1726 for train, test in self._iter_indices(X, y, groups):\n",
      "   1727     yield train, test\n",
      "\n",
      "File ~/anaconda3/lib/python3.11/site-packages/sklearn/model_selection/_split.py:2115, in StratifiedShuffleSplit._iter_indices(self, X, y, groups)\n",
      "   2113 class_counts = np.bincount(y_indices)\n",
      "   2114 if np.min(class_counts) < 2:\n",
      "-> 2115     raise ValueError(\n",
      "   2116         \"The least populated class in y has only 1\"\n",
      "   2117         \" member, which is too few. The minimum\"\n",
      "   2118         \" number of groups for any class cannot\"\n",
      "   2119         \" be less than 2.\"\n",
      "   2120     )\n",
      "   2122 if n_train < n_classes:\n",
      "   2123     raise ValueError(\n",
      "   2124         \"The train_size = %d should be greater or \"\n",
      "   2125         \"equal to the number of classes = %d\" % (n_train, n_classes)\n",
      "   2126     )\n",
      "\n",
      "ValueError: The least populated class in y has only 1 member, which is too few. The minimum number of groups for any class cannot be less than 2.\n",
      "\n",
      "Executing /Users/book_kuno/Desktop/ML_Evaluation/models/k-means_seeded_imp.ipynb with dataset /Users/book_kuno/Desktop/ddos_datasets/2018.csv and sample_fraction 0.03...\n"
     ]
    },
    {
     "data": {
      "application/vnd.jupyter.widget-view+json": {
       "model_id": "bf8c0e47760348939b35498c8d68a09f",
       "version_major": 2,
       "version_minor": 0
      },
      "text/plain": [
       "Executing:   0%|          | 0/17 [00:00<?, ?cell/s]"
      ]
     },
     "metadata": {},
     "output_type": "display_data"
    },
    {
     "name": "stderr",
     "output_type": "stream",
     "text": [
      "0.00s - Debugger warning: It seems that frozen modules are being used, which may\n",
      "0.00s - make the debugger miss breakpoints. Please pass -Xfrozen_modules=off\n",
      "0.00s - to python to disable frozen modules.\n",
      "0.00s - Note: Debugging will proceed. Set PYDEVD_DISABLE_FILE_VALIDATION=1 to disable this validation.\n"
     ]
    },
    {
     "name": "stdout",
     "output_type": "stream",
     "text": [
      "Finished executing /Users/book_kuno/Desktop/ML_Evaluation/models/k-means_seeded_imp.ipynb. Output saved to /Users/book_kuno/Desktop/ML_Evaluation/results/run_20250322_220342/k-means_seeded_imp_executed.ipynb.\n",
      "Executing /Users/book_kuno/Desktop/ML_Evaluation/models/rfc_int.ipynb with dataset /Users/book_kuno/Desktop/ddos_datasets/2018.csv and sample_fraction 0.03...\n"
     ]
    },
    {
     "data": {
      "application/vnd.jupyter.widget-view+json": {
       "model_id": "8abf3faeeb4d4600b0e628a47aaf39f0",
       "version_major": 2,
       "version_minor": 0
      },
      "text/plain": [
       "Executing:   0%|          | 0/15 [00:00<?, ?cell/s]"
      ]
     },
     "metadata": {},
     "output_type": "display_data"
    },
    {
     "name": "stderr",
     "output_type": "stream",
     "text": [
      "0.00s - Debugger warning: It seems that frozen modules are being used, which may\n",
      "0.00s - make the debugger miss breakpoints. Please pass -Xfrozen_modules=off\n",
      "0.00s - to python to disable frozen modules.\n",
      "0.00s - Note: Debugging will proceed. Set PYDEVD_DISABLE_FILE_VALIDATION=1 to disable this validation.\n"
     ]
    },
    {
     "name": "stdout",
     "output_type": "stream",
     "text": [
      "Finished executing /Users/book_kuno/Desktop/ML_Evaluation/models/rfc_int.ipynb. Output saved to /Users/book_kuno/Desktop/ML_Evaluation/results/run_20250322_220342/rfc_int_executed.ipynb.\n",
      "Executing /Users/book_kuno/Desktop/ML_Evaluation/models/1DCNN_int.ipynb with dataset /Users/book_kuno/Desktop/ddos_datasets/2018.csv and sample_fraction 0.03...\n"
     ]
    },
    {
     "data": {
      "application/vnd.jupyter.widget-view+json": {
       "model_id": "879393269e574ed6af7f5662f096f344",
       "version_major": 2,
       "version_minor": 0
      },
      "text/plain": [
       "Executing:   0%|          | 0/16 [00:00<?, ?cell/s]"
      ]
     },
     "metadata": {},
     "output_type": "display_data"
    },
    {
     "name": "stderr",
     "output_type": "stream",
     "text": [
      "0.00s - Debugger warning: It seems that frozen modules are being used, which may\n",
      "0.00s - make the debugger miss breakpoints. Please pass -Xfrozen_modules=off\n",
      "0.00s - to python to disable frozen modules.\n",
      "0.00s - Note: Debugging will proceed. Set PYDEVD_DISABLE_FILE_VALIDATION=1 to disable this validation.\n"
     ]
    },
    {
     "name": "stdout",
     "output_type": "stream",
     "text": [
      "Finished executing /Users/book_kuno/Desktop/ML_Evaluation/models/1DCNN_int.ipynb. Output saved to /Users/book_kuno/Desktop/ML_Evaluation/results/run_20250322_220342/1DCNN_int_executed.ipynb.\n",
      "Executing /Users/book_kuno/Desktop/ML_Evaluation/models/k-means_imp.ipynb with dataset /Users/book_kuno/Desktop/ddos_datasets/2018.csv and sample_fraction 0.03...\n"
     ]
    },
    {
     "name": "stderr",
     "output_type": "stream",
     "text": [
      "Passed unknown parameter: sample_fraction\n"
     ]
    },
    {
     "data": {
      "application/vnd.jupyter.widget-view+json": {
       "model_id": "3fc92b449a084959b2a23622248ed751",
       "version_major": 2,
       "version_minor": 0
      },
      "text/plain": [
       "Executing:   0%|          | 0/18 [00:00<?, ?cell/s]"
      ]
     },
     "metadata": {},
     "output_type": "display_data"
    },
    {
     "name": "stderr",
     "output_type": "stream",
     "text": [
      "0.00s - Debugger warning: It seems that frozen modules are being used, which may\n",
      "0.00s - make the debugger miss breakpoints. Please pass -Xfrozen_modules=off\n",
      "0.00s - to python to disable frozen modules.\n",
      "0.00s - Note: Debugging will proceed. Set PYDEVD_DISABLE_FILE_VALIDATION=1 to disable this validation.\n"
     ]
    },
    {
     "name": "stdout",
     "output_type": "stream",
     "text": [
      "Error executing /Users/book_kuno/Desktop/ML_Evaluation/models/k-means_imp.ipynb with /Users/book_kuno/Desktop/ddos_datasets/2018.csv: \n",
      "---------------------------------------------------------------------------\n",
      "Exception encountered at \"In [18]\":\n",
      "---------------------------------------------------------------------------\n",
      "NameError                                 Traceback (most recent call last)\n",
      "Cell In[18], line 23\n",
      "     21 elbow_plot_path = os.path.join(output_folder, \"elbow_method.png\")\n",
      "     22 plt.figure(figsize=(8, 5))\n",
      "---> 23 plt.plot(range(1, len(wcss) + 1), wcss, marker='o', linestyle='--')\n",
      "     24 plt.title('Elbow Method for Optimal k')\n",
      "     25 plt.xlabel('Number of clusters')\n",
      "\n",
      "NameError: name 'wcss' is not defined\n",
      "\n",
      "All notebooks executed successfully!\n"
     ]
    }
   ],
   "source": [
    "# for dataset in datasets:\n",
    "#     dataset_path = os.path.join(DATASET_FOLDER, dataset)\n",
    "#     print(f\"Processing dataset: {dataset_path}\")\n",
    "\n",
    "#     for notebook in notebooks:\n",
    "#         input_notebook = os.path.join(MODEL_FOLDER, notebook)\n",
    "#         # Create a unique output notebook name based on dataset and notebook names\n",
    "#         output_notebook = os.path.join(\n",
    "#             run_results_folder,\n",
    "#             f\"{os.path.splitext(dataset)[0]}_{os.path.splitext(notebook)[0]}.ipynb\"\n",
    "#         )\n",
    "        \n",
    "#         print(f\"Executing {input_notebook} with dataset {dataset_path}...\")\n",
    "        \n",
    "#         try:\n",
    "#             # Execute the notebook using Papermill and inject the dataset_path parameter\n",
    "#             pm.execute_notebook(\n",
    "#                 input_path=input_notebook,\n",
    "#                 output_path=output_notebook,\n",
    "#                 parameters={\"dataset_path\": dataset_path}\n",
    "#             )\n",
    "#             print(f\"Finished executing {input_notebook}. Output saved to {output_notebook}.\")\n",
    "#         except Exception as e:\n",
    "#             print(f\"Error executing {input_notebook} with {dataset_path}: {e}\")\n",
    "\n",
    "# Execute each notebook with Papermill\n",
    "for notebook in notebooks:\n",
    "    input_notebook = os.path.join(MODEL_FOLDER, notebook)\n",
    "    output_notebook = os.path.join(\n",
    "        run_results_folder,\n",
    "        f\"{os.path.splitext(os.path.basename(notebook))[0]}_executed.ipynb\"\n",
    "    )\n",
    "    \n",
    "    print(f\"Executing {input_notebook} with dataset {dataset_path} and sample_fraction {sample_fraction}...\")\n",
    "    \n",
    "    try:\n",
    "        pm.execute_notebook(\n",
    "            input_path=input_notebook,\n",
    "            output_path=output_notebook,\n",
    "            parameters={\n",
    "                \"dataset_path\": dataset_path,\n",
    "                \"sample_fraction\": sample_fraction\n",
    "            }\n",
    "        )\n",
    "        print(f\"Finished executing {input_notebook}. Output saved to {output_notebook}.\")\n",
    "    except Exception as e:\n",
    "        print(f\"Error executing {input_notebook} with {dataset_path}: {e}\")\n",
    "\n",
    "print(\"All notebooks executed successfully!\")"
   ]
  }
 ],
 "metadata": {
  "kernelspec": {
   "display_name": "base",
   "language": "python",
   "name": "python3"
  },
  "language_info": {
   "codemirror_mode": {
    "name": "ipython",
    "version": 3
   },
   "file_extension": ".py",
   "mimetype": "text/x-python",
   "name": "python",
   "nbconvert_exporter": "python",
   "pygments_lexer": "ipython3",
   "version": "3.11.5"
  }
 },
 "nbformat": 4,
 "nbformat_minor": 2
}
