{
 "cells": [
  {
   "cell_type": "code",
   "execution_count": 2,
   "metadata": {},
   "outputs": [],
   "source": [
    "import pandas as pd\n",
    "import numpy as np\n",
    "from sklearn.preprocessing import LabelEncoder, StandardScaler\n",
    "from sklearn.model_selection import train_test_split\n",
    "from sklearn.svm import SVC\n",
    "from sklearn.metrics import classification_report, confusion_matrix, accuracy_score\n",
    "from sklearn.model_selection import GridSearchCV\n",
    "# Step 2: Load the Dataset\n",
    "# data1 = pd.read_csv(\"/Users/book_kuno/Desktop/ML_Evaluation/datasets/2018.csv\")\n",
    "# data2 = pd.read_csv(\"/Users/book_kuno/Desktop/ML_Evaluation/datasets/2019.csv\")\n",
    "data3 = pd.read_csv(\"/Users/book_kuno/Desktop/ddos_datasets/change_label_to_LOIC-HTTP(in).csv\") "
   ]
  },
  {
   "cell_type": "code",
   "execution_count": 3,
   "metadata": {},
   "outputs": [
    {
     "name": "stdout",
     "output_type": "stream",
     "text": [
      "Index(['timestamp', 'Dst Port', 'protocol', 'Flow Duration',\n",
      "       'Flow Duration_rolling_mean', 'Flow Duration_rolling_std',\n",
      "       'Tot Fwd Pkts', 'Tot Bwd Pkts', 'TotLen Fwd Pkts', 'TotLen Bwd Pkts',\n",
      "       'Fwd Pkt Len Max', 'Fwd Pkt Len Min', 'Fwd Pkt Len Mean',\n",
      "       'Fwd Pkt Len Std', 'Fwd IAT Tot', 'Fwd IAT Mean', 'Fwd IAT Max',\n",
      "       'Fwd IAT Min', 'SYN Flag Cnt', 'pkts_ratio', 'byte_per_duration',\n",
      "       'entropy_pkt_len', 'Subflow Fwd Byts', 'Bwd Pkt Len Max',\n",
      "       'Bwd Pkt Len Min', 'Bwd IAT Tot', 'Bwd IAT Mean', 'Bwd IAT Max',\n",
      "       'Bwd IAT Min', 'Flow Bytes/s', 'Flow Packets/s', 'label'],\n",
      "      dtype='object')\n",
      "label\n",
      "0    65537\n",
      "Name: count, dtype: int64\n"
     ]
    }
   ],
   "source": [
    "print(data3.columns)\n",
    "print(data3['label'].value_counts())"
   ]
  },
  {
   "cell_type": "code",
   "execution_count": 9,
   "metadata": {},
   "outputs": [
    {
     "name": "stdout",
     "output_type": "stream",
     "text": [
      "Index(['timestamp', 'Dst Port', 'protocol', 'Flow Duration',\n",
      "       'Flow Duration_rolling_mean', 'Flow Duration_rolling_std',\n",
      "       'Tot Fwd Pkts', 'Tot Bwd Pkts', 'TotLen Fwd Pkts', 'TotLen Bwd Pkts',\n",
      "       'Fwd Pkt Len Max', 'Fwd Pkt Len Min', 'Fwd Pkt Len Mean',\n",
      "       'Fwd Pkt Len Std', 'Fwd IAT Tot', 'Fwd IAT Mean', 'Fwd IAT Max',\n",
      "       'Fwd IAT Min', 'SYN Flag Cnt', 'pkts_ratio', 'byte_per_duration',\n",
      "       'entropy_pkt_len', 'Subflow Fwd Byts', 'Bwd Pkt Len Max',\n",
      "       'Bwd Pkt Len Min', 'label'],\n",
      "      dtype='object')\n",
      "label\n",
      "Benign                      2410917\n",
      "DDOS attack-HOIC             686012\n",
      "DDoS attacks-LOIC-HTTP       576191\n",
      "DoS attacks-Hulk             461912\n",
      "DoS attacks-SlowHTTPTest     139890\n",
      "DoS attacks-GoldenEye         49810\n",
      "DoS attacks-Slowloris         13188\n",
      "DDOS attack-LOIC-UDP           1730\n",
      "Label                             1\n",
      "Name: count, dtype: int64\n"
     ]
    }
   ],
   "source": [
    "print(data1.columns)\n",
    "print(data1['label'].value_counts())"
   ]
  },
  {
   "cell_type": "code",
   "execution_count": 10,
   "metadata": {},
   "outputs": [
    {
     "name": "stdout",
     "output_type": "stream",
     "text": [
      "Index(['timestamp', 'Dst Port', 'protocol', 'Flow Duration',\n",
      "       'Flow Duration_rolling_mean', 'Flow Duration_rolling_std',\n",
      "       'Tot Fwd Pkts', 'Tot Bwd Pkts', 'TotLen Fwd Pkts', 'TotLen Bwd Pkts',\n",
      "       'Fwd Pkt Len Max', 'Fwd Pkt Len Min', 'Fwd Pkt Len Mean',\n",
      "       'Fwd Pkt Len Std', 'Fwd IAT Tot', 'Fwd IAT Mean', 'Fwd IAT Max',\n",
      "       'Fwd IAT Min', 'SYN Flag Cnt', 'pkts_ratio', 'byte_per_duration',\n",
      "       'entropy_pkt_len', 'Subflow Fwd Byts', 'Bwd Pkt Len Max',\n",
      "       'Bwd Pkt Len Min', 'Bwd IAT Tot', 'Bwd IAT Mean', 'Bwd IAT Max',\n",
      "       'Bwd IAT Min', 'Flow Bytes/s', 'Flow Packets/s', 'label'],\n",
      "      dtype='object')\n",
      "label\n",
      "DrDoS_SNMP       5159870\n",
      "DrDoS_DNS        5071011\n",
      "DrDoS_MSSQL      4522492\n",
      "DrDoS_NetBIOS    4093279\n",
      "DrDoS_UDP        3134645\n",
      "DrDoS_SSDP       2610611\n",
      "DrDoS_LDAP       2179930\n",
      "Syn              1582289\n",
      "DrDoS_NTP        1202642\n",
      "TFTP              890641\n",
      "UDP-lag           366461\n",
      "BENIGN            327680\n",
      "WebDDoS             4390\n",
      "Name: count, dtype: int64\n"
     ]
    }
   ],
   "source": [
    "print(data2.columns)\n",
    "print(data2['label'].value_counts())"
   ]
  }
 ],
 "metadata": {
  "kernelspec": {
   "display_name": "base",
   "language": "python",
   "name": "python3"
  },
  "language_info": {
   "codemirror_mode": {
    "name": "ipython",
    "version": 3
   },
   "file_extension": ".py",
   "mimetype": "text/x-python",
   "name": "python",
   "nbconvert_exporter": "python",
   "pygments_lexer": "ipython3",
   "version": "3.11.5"
  }
 },
 "nbformat": 4,
 "nbformat_minor": 2
}
