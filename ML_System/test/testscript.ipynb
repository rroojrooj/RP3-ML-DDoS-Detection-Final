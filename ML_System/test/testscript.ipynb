{
 "cells": [
  {
   "cell_type": "code",
   "execution_count": 15,
   "metadata": {},
   "outputs": [],
   "source": [
    "import os\n",
    "import papermill as pm\n",
    "from datetime import datetime"
   ]
  },
  {
   "cell_type": "code",
   "execution_count": null,
   "metadata": {},
   "outputs": [],
   "source": [
    "# ----- Parameters -----\n",
    "# Path to the single test dataset file.\n",
    "test_dataset_path = \"/Users/book_kuno/Desktop/Final/ML_System/sim_data/capture.csv\"  # Update with your dataset file path\n",
    "\n",
    "sample_fraction_test = 0.05\n",
    "\n",
    "# Folder containing all test notebooks to execute.\n",
    "test_notebooks_folder = \"/Users/book_kuno/Desktop/Final/ML_System/test/test-code\"\n",
    "\n",
    "# Run name for saving outputs\n",
    "run_name_test = \"svm_test1_run_full\"  # Change as desired\n",
    "year_test = \"2018\""
   ]
  },
  {
   "cell_type": "code",
   "execution_count": 17,
   "metadata": {},
   "outputs": [
    {
     "name": "stderr",
     "output_type": "stream",
     "text": [
      "Passed unknown parameter: dataset_path\n"
     ]
    },
    {
     "name": "stdout",
     "output_type": "stream",
     "text": [
      "Test Output test_results/20250402_120545\n",
      "Executing /Users/rooj/Downloads/RP3-Final/Final/ML_System/test/test-code/test-svm.ipynb with dataset /Users/rooj/Downloads/RP3-Final/Final/ML_System/sim_data/capture.csv...\n"
     ]
    },
    {
     "data": {
      "application/vnd.jupyter.widget-view+json": {
       "model_id": "79961a59b82f4cd88edd175ec5b07909",
       "version_major": 2,
       "version_minor": 0
      },
      "text/plain": [
       "Executing:   0%|          | 0/10 [00:00<?, ?cell/s]"
      ]
     },
     "metadata": {},
     "output_type": "display_data"
    },
    {
     "name": "stderr",
     "output_type": "stream",
     "text": [
      "Passed unknown parameter: dataset_path\n"
     ]
    },
    {
     "name": "stdout",
     "output_type": "stream",
     "text": [
      "Error executing /Users/rooj/Downloads/RP3-Final/Final/ML_System/test/test-code/test-svm.ipynb with /Users/rooj/Downloads/RP3-Final/Final/ML_System/sim_data/capture.csv: \n",
      "---------------------------------------------------------------------------\n",
      "Exception encountered at \"In [9]\":\n",
      "---------------------------------------------------------------------------\n",
      "ValueError                                Traceback (most recent call last)\n",
      "Cell In[9], line 17\n",
      "     14 acc = accuracy_score(y_test, y_test_pred)\n",
      "     15 print(f\"\\nTest Accuracy: {acc:.4f}\")\n",
      "---> 17 report = classification_report(y_test, y_test_pred, target_names=[str(label) for label in label_names.values()])\n",
      "     18 print(\"\\nClassification Report:\")\n",
      "     19 print(report)\n",
      "\n",
      "File ~/anaconda3/lib/python3.11/site-packages/sklearn/utils/_param_validation.py:216, in validate_params.<locals>.decorator.<locals>.wrapper(*args, **kwargs)\n",
      "    210 try:\n",
      "    211     with config_context(\n",
      "    212         skip_parameter_validation=(\n",
      "    213             prefer_skip_nested_validation or global_skip_validation\n",
      "    214         )\n",
      "    215     ):\n",
      "--> 216         return func(*args, **kwargs)\n",
      "    217 except InvalidParameterError as e:\n",
      "    218     # When the function is just a wrapper around an estimator, we allow\n",
      "    219     # the function to delegate validation to the estimator, but we replace\n",
      "    220     # the name of the estimator by the name of the function in the error\n",
      "    221     # message to avoid confusion.\n",
      "    222     msg = re.sub(\n",
      "    223         r\"parameter of \\w+ must be\",\n",
      "    224         f\"parameter of {func.__qualname__} must be\",\n",
      "    225         str(e),\n",
      "    226     )\n",
      "\n",
      "File ~/anaconda3/lib/python3.11/site-packages/sklearn/metrics/_classification.py:2693, in classification_report(y_true, y_pred, labels, target_names, sample_weight, digits, output_dict, zero_division)\n",
      "   2687         warnings.warn(\n",
      "   2688             \"labels size, {0}, does not match size of target_names, {1}\".format(\n",
      "   2689                 len(labels), len(target_names)\n",
      "   2690             )\n",
      "   2691         )\n",
      "   2692     else:\n",
      "-> 2693         raise ValueError(\n",
      "   2694             \"Number of classes, {0}, does not match size of \"\n",
      "   2695             \"target_names, {1}. Try specifying the labels \"\n",
      "   2696             \"parameter\".format(len(labels), len(target_names))\n",
      "   2697         )\n",
      "   2698 if target_names is None:\n",
      "   2699     target_names = [\"%s\" % l for l in labels]\n",
      "\n",
      "ValueError: Number of classes, 2, does not match size of target_names, 1. Try specifying the labels parameter\n",
      "\n",
      "Executing /Users/rooj/Downloads/RP3-Final/Final/ML_System/test/test-code/test-rfc.ipynb with dataset /Users/rooj/Downloads/RP3-Final/Final/ML_System/sim_data/capture.csv...\n"
     ]
    },
    {
     "data": {
      "application/vnd.jupyter.widget-view+json": {
       "model_id": "4aae8c7850b441c78fde44143420ef0c",
       "version_major": 2,
       "version_minor": 0
      },
      "text/plain": [
       "Executing:   0%|          | 0/10 [00:00<?, ?cell/s]"
      ]
     },
     "metadata": {},
     "output_type": "display_data"
    },
    {
     "name": "stdout",
     "output_type": "stream",
     "text": [
      "Finished executing /Users/rooj/Downloads/RP3-Final/Final/ML_System/test/test-code/test-rfc.ipynb. Output saved to test_results/20250402_120545/test-rfc_executed.ipynb.\n",
      "All test notebooks executed successfully!\n"
     ]
    }
   ],
   "source": [
    "\n",
    "\n",
    "# Define a folder where executed notebooks will be saved.\n",
    "# This example creates a timestamped subfolder inside \"test_results\".\n",
    "timestamp = datetime.now().strftime(\"%Y%m%d_%H%M%S\")\n",
    "output_folder = os.path.join(\"test_results\", timestamp)\n",
    "os.makedirs(output_folder, exist_ok=True)\n",
    "print(\"Test Output\", output_folder)\n",
    "\n",
    "# ----- Loop Through and Execute Notebooks -----\n",
    "# Get all .ipynb files in the test notebooks folder.\n",
    "test_notebook_files = [f for f in os.listdir(test_notebooks_folder) if f.endswith(\".ipynb\")]\n",
    "\n",
    "# Loop over each test notebook and execute with Papermill.\n",
    "for notebook in test_notebook_files:\n",
    "    input_notebook = os.path.join(test_notebooks_folder, notebook)\n",
    "    \n",
    "    # Use the notebook's name (without extension) to build a unique output file name.\n",
    "    base_name = os.path.splitext(notebook)[0]\n",
    "    output_notebook = os.path.join(output_folder, f\"{base_name}_executed.ipynb\")\n",
    "    \n",
    "    print(f\"Executing {input_notebook} with dataset {test_dataset_path}...\")\n",
    "    \n",
    "    try:\n",
    "        # Execute the notebook, injecting the test dataset path.\n",
    "        pm.execute_notebook(\n",
    "            input_path=input_notebook,\n",
    "            output_path=output_notebook,\n",
    "            parameters={\"dataset_path\": test_dataset_path}\n",
    "        )\n",
    "        print(f\"Finished executing {input_notebook}. Output saved to {output_notebook}.\")\n",
    "    except Exception as e:\n",
    "        print(f\"Error executing {input_notebook} with {test_dataset_path}: {e}\")\n",
    "\n",
    "print(\"All test notebooks executed successfully!\")"
   ]
  }
 ],
 "metadata": {
  "kernelspec": {
   "display_name": "base",
   "language": "python",
   "name": "python3"
  },
  "language_info": {
   "codemirror_mode": {
    "name": "ipython",
    "version": 3
   },
   "file_extension": ".py",
   "mimetype": "text/x-python",
   "name": "python",
   "nbconvert_exporter": "python",
   "pygments_lexer": "ipython3",
   "version": "3.11.11"
  }
 },
 "nbformat": 4,
 "nbformat_minor": 2
}
