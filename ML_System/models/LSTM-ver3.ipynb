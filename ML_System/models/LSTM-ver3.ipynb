{
 "cells": [
  {
   "cell_type": "code",
   "execution_count": 1,
   "id": "11e0b834",
   "metadata": {},
   "outputs": [
    {
     "name": "stdout",
     "output_type": "stream",
     "text": [
      "Outputs → outputs/2018/LSTM/lstm_post_sequence_15pct_w10_trail001\n",
      "Raw rows: 4339650\n"
     ]
    }
   ],
   "source": [
    "import os\n",
    "import time\n",
    "import joblib\n",
    "import numpy as np\n",
    "import pandas as pd\n",
    "import matplotlib.pyplot as plt\n",
    "\n",
    "from sklearn.preprocessing import StandardScaler, LabelEncoder\n",
    "from sklearn.metrics import classification_report, confusion_matrix, roc_auc_score\n",
    "from sklearn.preprocessing import label_binarize\n",
    "from tensorflow.keras.models import Sequential\n",
    "from tensorflow.keras.layers import LSTM, Dense, Dropout\n",
    "from tensorflow.keras.callbacks import Callback, EarlyStopping, ModelCheckpoint\n",
    "from tensorflow.keras.utils import to_categorical\n",
    "\n",
    "# ----------------------------\n",
    "# 0. Parameters & Output Dir\n",
    "# ----------------------------\n",
    "dataset_path    = \"/Users/rooj/Documents/RP3-Main/RP3-Imp/clean-datasets/2018.csv\"\n",
    "sample_fraction = 0.15       # fraction of windows (post_sequence) or rows (contiguous)\n",
    "sampling_method = \"post_sequence\"  # or \"contiguous\"\n",
    "window_size     = 10         # change your sequence length here\n",
    "run_name        = f\"lstm_{sampling_method}_{int(sample_fraction*100)}pct_w{window_size}_trail001\"\n",
    "output_folder   = os.path.join(\"outputs\", \"2018\", \"LSTM\", run_name)\n",
    "os.makedirs(output_folder, exist_ok=True)\n",
    "print(\"Outputs →\", output_folder)\n",
    "\n",
    "# ----------------------------\n",
    "# 1. Load & Clean Data\n",
    "# ----------------------------\n",
    "df_full = pd.read_csv(dataset_path, low_memory=False)\n",
    "df_full = df_full[df_full['label'] != 'label'].reset_index(drop=True)\n",
    "print(\"Raw rows:\", df_full.shape[0])"
   ]
  },
  {
   "cell_type": "code",
   "execution_count": 2,
   "id": "abe09779",
   "metadata": {},
   "outputs": [
    {
     "name": "stdout",
     "output_type": "stream",
     "text": [
      "Label mapping: {0: 'Benign', 1: 'DDOS attack-HOIC', 2: 'DDOS attack-LOIC-UDP', 3: 'DDoS attacks-LOIC-HTTP', 4: 'DoS attacks-GoldenEye', 5: 'DoS attacks-Hulk', 6: 'DoS attacks-SlowHTTPTest', 7: 'DoS attacks-Slowloris'}\n",
      "Features: ['Dst Port', 'protocol', 'Flow Duration', 'Flow Duration_rolling_mean', 'Flow Duration_rolling_std', 'Tot Fwd Pkts', 'Tot Bwd Pkts', 'TotLen Fwd Pkts', 'TotLen Bwd Pkts', 'Fwd Pkt Len Max', 'Fwd Pkt Len Min', 'Fwd Pkt Len Mean', 'Fwd Pkt Len Std', 'Fwd IAT Tot', 'Fwd IAT Mean', 'Fwd IAT Max', 'Fwd IAT Min', 'SYN Flag Cnt', 'pkts_ratio', 'byte_per_duration', 'entropy_pkt_len', 'Subflow Fwd Byts', 'Bwd Pkt Len Max', 'Bwd Pkt Len Min']\n",
      "All windows: (4339641, 10, 24)\n",
      "After post_sequence sampling: (650946, 10, 24)\n"
     ]
    }
   ],
   "source": [
    "# ----------------------------\n",
    "# 2. Encode Labels with LabelEncoder\n",
    "# ----------------------------\n",
    "encoder = LabelEncoder()\n",
    "df_full['label_enc'] = encoder.fit_transform(df_full['label'])\n",
    "joblib.dump(encoder, os.path.join(output_folder, \"label_encoder.pkl\"))\n",
    "print(\"Label mapping:\", dict(enumerate(encoder.classes_)))\n",
    "\n",
    "# ----------------------------\n",
    "# 3. Select Features\n",
    "# ----------------------------\n",
    "features = [c for c in df_full.columns if c.lower() not in ['timestamp','label','label_enc']]\n",
    "print(\"Features:\", features)\n",
    "\n",
    "# ----------------------------\n",
    "# 4. Sampling & Sequencing\n",
    "# ----------------------------\n",
    "def contiguous_sample(df, frac):\n",
    "    n     = int(len(df)*frac)\n",
    "    start = np.random.randint(0, len(df)-n)\n",
    "    return df.iloc[start:start+n].reset_index(drop=True)\n",
    "\n",
    "def post_sequence_sample(Xs, ys, frac, seed=42):\n",
    "    np.random.seed(seed)\n",
    "    n   = int(len(Xs)*frac)\n",
    "    idx = np.random.choice(len(Xs), n, replace=False)\n",
    "    return Xs[idx], ys[idx]\n",
    "\n",
    "# choose raw df for windowing\n",
    "if sampling_method==\"contiguous\":\n",
    "    df = contiguous_sample(df_full, sample_fraction)\n",
    "else:\n",
    "    df = df_full.copy()\n",
    "\n",
    "# drop NA, scale\n",
    "df = df.dropna(subset=features + ['label_enc']).reset_index(drop=True)\n",
    "X_raw = df[features].values\n",
    "y_raw = df['label_enc'].values\n",
    "scaler = StandardScaler().fit(X_raw)\n",
    "X_scaled = scaler.transform(X_raw)\n",
    "joblib.dump(scaler, os.path.join(output_folder,\"scaler.pkl\"))\n",
    "\n",
    "# create sequences\n",
    "def create_sequences(X, y, timesteps):\n",
    "    Xs, ys = [], []\n",
    "    for i in range(len(X)-timesteps+1):\n",
    "        Xs.append(X[i:i+timesteps])\n",
    "        ys.append(y[i+timesteps-1])\n",
    "    return np.array(Xs), np.array(ys)\n",
    "\n",
    "X_seq, y_seq = create_sequences(X_scaled, y_raw, window_size)\n",
    "print(\"All windows:\", X_seq.shape)\n",
    "\n",
    "# optional post-sequence subsample\n",
    "if sampling_method==\"post_sequence\" and sample_fraction<1.0:\n",
    "    X_seq, y_seq = post_sequence_sample(X_seq, y_seq, sample_fraction)\n",
    "    print(\"After post_sequence sampling:\", X_seq.shape)"
   ]
  },
  {
   "cell_type": "code",
   "execution_count": 3,
   "id": "b79c0f93",
   "metadata": {},
   "outputs": [
    {
     "name": "stdout",
     "output_type": "stream",
     "text": [
      "Train/test shapes: (520756, 10, 24) (130190, 10, 24)\n"
     ]
    },
    {
     "name": "stderr",
     "output_type": "stream",
     "text": [
      "2025-04-25 18:27:29.840516: I metal_plugin/src/device/metal_device.cc:1154] Metal device set to: Apple M2 Pro\n",
      "2025-04-25 18:27:29.841791: I metal_plugin/src/device/metal_device.cc:296] systemMemory: 16.00 GB\n",
      "2025-04-25 18:27:29.842615: I metal_plugin/src/device/metal_device.cc:313] maxCacheSize: 5.33 GB\n",
      "2025-04-25 18:27:29.842669: I tensorflow/core/common_runtime/pluggable_device/pluggable_device_factory.cc:305] Could not identify NUMA node of platform GPU ID 0, defaulting to 0. Your kernel may not have been built with NUMA support.\n",
      "2025-04-25 18:27:29.843233: I tensorflow/core/common_runtime/pluggable_device/pluggable_device_factory.cc:271] Created TensorFlow device (/job:localhost/replica:0/task:0/device:GPU:0 with 0 MB memory) -> physical PluggableDevice (device: 0, name: METAL, pci bus id: <undefined>)\n",
      "/Users/rooj/anaconda3/lib/python3.11/site-packages/keras/src/layers/rnn/rnn.py:200: UserWarning: Do not pass an `input_shape`/`input_dim` argument to a layer. When using Sequential models, prefer using an `Input(shape)` object as the first layer in the model instead.\n",
      "  super().__init__(**kwargs)\n"
     ]
    },
    {
     "data": {
      "text/html": [
       "<pre style=\"white-space:pre;overflow-x:auto;line-height:normal;font-family:Menlo,'DejaVu Sans Mono',consolas,'Courier New',monospace\"><span style=\"font-weight: bold\">Model: \"sequential\"</span>\n",
       "</pre>\n"
      ],
      "text/plain": [
       "\u001b[1mModel: \"sequential\"\u001b[0m\n"
      ]
     },
     "metadata": {},
     "output_type": "display_data"
    },
    {
     "data": {
      "text/html": [
       "<pre style=\"white-space:pre;overflow-x:auto;line-height:normal;font-family:Menlo,'DejaVu Sans Mono',consolas,'Courier New',monospace\">┏━━━━━━━━━━━━━━━━━━━━━━━━━━━━━━━━━┳━━━━━━━━━━━━━━━━━━━━━━━━┳━━━━━━━━━━━━━━━┓\n",
       "┃<span style=\"font-weight: bold\"> Layer (type)                    </span>┃<span style=\"font-weight: bold\"> Output Shape           </span>┃<span style=\"font-weight: bold\">       Param # </span>┃\n",
       "┡━━━━━━━━━━━━━━━━━━━━━━━━━━━━━━━━━╇━━━━━━━━━━━━━━━━━━━━━━━━╇━━━━━━━━━━━━━━━┩\n",
       "│ lstm (<span style=\"color: #0087ff; text-decoration-color: #0087ff\">LSTM</span>)                     │ (<span style=\"color: #00d7ff; text-decoration-color: #00d7ff\">None</span>, <span style=\"color: #00af00; text-decoration-color: #00af00\">10</span>, <span style=\"color: #00af00; text-decoration-color: #00af00\">64</span>)         │        <span style=\"color: #00af00; text-decoration-color: #00af00\">22,784</span> │\n",
       "├─────────────────────────────────┼────────────────────────┼───────────────┤\n",
       "│ dropout (<span style=\"color: #0087ff; text-decoration-color: #0087ff\">Dropout</span>)               │ (<span style=\"color: #00d7ff; text-decoration-color: #00d7ff\">None</span>, <span style=\"color: #00af00; text-decoration-color: #00af00\">10</span>, <span style=\"color: #00af00; text-decoration-color: #00af00\">64</span>)         │             <span style=\"color: #00af00; text-decoration-color: #00af00\">0</span> │\n",
       "├─────────────────────────────────┼────────────────────────┼───────────────┤\n",
       "│ lstm_1 (<span style=\"color: #0087ff; text-decoration-color: #0087ff\">LSTM</span>)                   │ (<span style=\"color: #00d7ff; text-decoration-color: #00d7ff\">None</span>, <span style=\"color: #00af00; text-decoration-color: #00af00\">32</span>)             │        <span style=\"color: #00af00; text-decoration-color: #00af00\">12,416</span> │\n",
       "├─────────────────────────────────┼────────────────────────┼───────────────┤\n",
       "│ dense (<span style=\"color: #0087ff; text-decoration-color: #0087ff\">Dense</span>)                   │ (<span style=\"color: #00d7ff; text-decoration-color: #00d7ff\">None</span>, <span style=\"color: #00af00; text-decoration-color: #00af00\">16</span>)             │           <span style=\"color: #00af00; text-decoration-color: #00af00\">528</span> │\n",
       "├─────────────────────────────────┼────────────────────────┼───────────────┤\n",
       "│ dense_1 (<span style=\"color: #0087ff; text-decoration-color: #0087ff\">Dense</span>)                 │ (<span style=\"color: #00d7ff; text-decoration-color: #00d7ff\">None</span>, <span style=\"color: #00af00; text-decoration-color: #00af00\">8</span>)              │           <span style=\"color: #00af00; text-decoration-color: #00af00\">136</span> │\n",
       "└─────────────────────────────────┴────────────────────────┴───────────────┘\n",
       "</pre>\n"
      ],
      "text/plain": [
       "┏━━━━━━━━━━━━━━━━━━━━━━━━━━━━━━━━━┳━━━━━━━━━━━━━━━━━━━━━━━━┳━━━━━━━━━━━━━━━┓\n",
       "┃\u001b[1m \u001b[0m\u001b[1mLayer (type)                   \u001b[0m\u001b[1m \u001b[0m┃\u001b[1m \u001b[0m\u001b[1mOutput Shape          \u001b[0m\u001b[1m \u001b[0m┃\u001b[1m \u001b[0m\u001b[1m      Param #\u001b[0m\u001b[1m \u001b[0m┃\n",
       "┡━━━━━━━━━━━━━━━━━━━━━━━━━━━━━━━━━╇━━━━━━━━━━━━━━━━━━━━━━━━╇━━━━━━━━━━━━━━━┩\n",
       "│ lstm (\u001b[38;5;33mLSTM\u001b[0m)                     │ (\u001b[38;5;45mNone\u001b[0m, \u001b[38;5;34m10\u001b[0m, \u001b[38;5;34m64\u001b[0m)         │        \u001b[38;5;34m22,784\u001b[0m │\n",
       "├─────────────────────────────────┼────────────────────────┼───────────────┤\n",
       "│ dropout (\u001b[38;5;33mDropout\u001b[0m)               │ (\u001b[38;5;45mNone\u001b[0m, \u001b[38;5;34m10\u001b[0m, \u001b[38;5;34m64\u001b[0m)         │             \u001b[38;5;34m0\u001b[0m │\n",
       "├─────────────────────────────────┼────────────────────────┼───────────────┤\n",
       "│ lstm_1 (\u001b[38;5;33mLSTM\u001b[0m)                   │ (\u001b[38;5;45mNone\u001b[0m, \u001b[38;5;34m32\u001b[0m)             │        \u001b[38;5;34m12,416\u001b[0m │\n",
       "├─────────────────────────────────┼────────────────────────┼───────────────┤\n",
       "│ dense (\u001b[38;5;33mDense\u001b[0m)                   │ (\u001b[38;5;45mNone\u001b[0m, \u001b[38;5;34m16\u001b[0m)             │           \u001b[38;5;34m528\u001b[0m │\n",
       "├─────────────────────────────────┼────────────────────────┼───────────────┤\n",
       "│ dense_1 (\u001b[38;5;33mDense\u001b[0m)                 │ (\u001b[38;5;45mNone\u001b[0m, \u001b[38;5;34m8\u001b[0m)              │           \u001b[38;5;34m136\u001b[0m │\n",
       "└─────────────────────────────────┴────────────────────────┴───────────────┘\n"
      ]
     },
     "metadata": {},
     "output_type": "display_data"
    },
    {
     "data": {
      "text/html": [
       "<pre style=\"white-space:pre;overflow-x:auto;line-height:normal;font-family:Menlo,'DejaVu Sans Mono',consolas,'Courier New',monospace\"><span style=\"font-weight: bold\"> Total params: </span><span style=\"color: #00af00; text-decoration-color: #00af00\">35,864</span> (140.09 KB)\n",
       "</pre>\n"
      ],
      "text/plain": [
       "\u001b[1m Total params: \u001b[0m\u001b[38;5;34m35,864\u001b[0m (140.09 KB)\n"
      ]
     },
     "metadata": {},
     "output_type": "display_data"
    },
    {
     "data": {
      "text/html": [
       "<pre style=\"white-space:pre;overflow-x:auto;line-height:normal;font-family:Menlo,'DejaVu Sans Mono',consolas,'Courier New',monospace\"><span style=\"font-weight: bold\"> Trainable params: </span><span style=\"color: #00af00; text-decoration-color: #00af00\">35,864</span> (140.09 KB)\n",
       "</pre>\n"
      ],
      "text/plain": [
       "\u001b[1m Trainable params: \u001b[0m\u001b[38;5;34m35,864\u001b[0m (140.09 KB)\n"
      ]
     },
     "metadata": {},
     "output_type": "display_data"
    },
    {
     "data": {
      "text/html": [
       "<pre style=\"white-space:pre;overflow-x:auto;line-height:normal;font-family:Menlo,'DejaVu Sans Mono',consolas,'Courier New',monospace\"><span style=\"font-weight: bold\"> Non-trainable params: </span><span style=\"color: #00af00; text-decoration-color: #00af00\">0</span> (0.00 B)\n",
       "</pre>\n"
      ],
      "text/plain": [
       "\u001b[1m Non-trainable params: \u001b[0m\u001b[38;5;34m0\u001b[0m (0.00 B)\n"
      ]
     },
     "metadata": {},
     "output_type": "display_data"
    },
    {
     "name": "stderr",
     "output_type": "stream",
     "text": [
      "2025-04-25 18:27:32.729852: I tensorflow/core/grappler/optimizers/custom_graph_optimizer_registry.cc:117] Plugin optimizer for device_type GPU is enabled.\n",
      "2025-04-25 18:27:32.735776: E tensorflow/core/grappler/optimizers/meta_optimizer.cc:961] PluggableGraphOptimizer failed: INVALID_ARGUMENT: Failed to deserialize the `graph_buf`.\n",
      "2025-04-25 18:28:45.183581: E tensorflow/core/grappler/optimizers/meta_optimizer.cc:961] PluggableGraphOptimizer failed: INVALID_ARGUMENT: Failed to deserialize the `graph_buf`.\n"
     ]
    },
    {
     "name": "stdout",
     "output_type": "stream",
     "text": [
      "Epoch 1/50 – 77.2s – loss:0.0284 val_loss:0.0020 val_acc:0.9992\n",
      "\n",
      "Epoch 1: val_loss improved from inf to 0.00200, saving model to outputs/2018/LSTM/lstm_post_sequence_15pct_w10_trail001/best_lstm.keras\n",
      "Epoch 2/50 – 69.4s – loss:0.0047 val_loss:0.0013 val_acc:0.9994\n",
      "\n",
      "Epoch 2: val_loss improved from 0.00200 to 0.00132, saving model to outputs/2018/LSTM/lstm_post_sequence_15pct_w10_trail001/best_lstm.keras\n",
      "Epoch 3/50 – 70.1s – loss:0.0027 val_loss:0.0012 val_acc:0.9995\n",
      "\n",
      "Epoch 3: val_loss improved from 0.00132 to 0.00121, saving model to outputs/2018/LSTM/lstm_post_sequence_15pct_w10_trail001/best_lstm.keras\n",
      "Epoch 4/50 – 72.6s – loss:0.0017 val_loss:0.0009 val_acc:0.9996\n",
      "\n",
      "Epoch 4: val_loss improved from 0.00121 to 0.00092, saving model to outputs/2018/LSTM/lstm_post_sequence_15pct_w10_trail001/best_lstm.keras\n",
      "Epoch 5/50 – 71.8s – loss:0.0011 val_loss:0.0024 val_acc:0.9992\n",
      "\n",
      "Epoch 5: val_loss did not improve from 0.00092\n",
      "Epoch 6/50 – 67.6s – loss:0.0013 val_loss:0.0005 val_acc:0.9999\n",
      "\n",
      "Epoch 6: val_loss improved from 0.00092 to 0.00053, saving model to outputs/2018/LSTM/lstm_post_sequence_15pct_w10_trail001/best_lstm.keras\n",
      "Epoch 7/50 – 67.0s – loss:0.0024 val_loss:0.0005 val_acc:0.9998\n",
      "\n",
      "Epoch 7: val_loss improved from 0.00053 to 0.00050, saving model to outputs/2018/LSTM/lstm_post_sequence_15pct_w10_trail001/best_lstm.keras\n",
      "Epoch 8/50 – 71.0s – loss:0.0009 val_loss:0.0008 val_acc:0.9995\n",
      "\n",
      "Epoch 8: val_loss did not improve from 0.00050\n",
      "Epoch 9/50 – 68.0s – loss:0.0008 val_loss:0.0004 val_acc:1.0000\n",
      "\n",
      "Epoch 9: val_loss improved from 0.00050 to 0.00042, saving model to outputs/2018/LSTM/lstm_post_sequence_15pct_w10_trail001/best_lstm.keras\n",
      "Epoch 10/50 – 67.7s – loss:0.0007 val_loss:0.0004 val_acc:0.9999\n",
      "\n",
      "Epoch 10: val_loss did not improve from 0.00042\n",
      "Epoch 11/50 – 70.5s – loss:0.0007 val_loss:0.0003 val_acc:0.9999\n",
      "\n",
      "Epoch 11: val_loss improved from 0.00042 to 0.00033, saving model to outputs/2018/LSTM/lstm_post_sequence_15pct_w10_trail001/best_lstm.keras\n",
      "Epoch 12/50 – 73.0s – loss:0.0004 val_loss:0.0003 val_acc:0.9999\n",
      "\n",
      "Epoch 12: val_loss improved from 0.00033 to 0.00032, saving model to outputs/2018/LSTM/lstm_post_sequence_15pct_w10_trail001/best_lstm.keras\n",
      "Epoch 13/50 – 67.0s – loss:0.0004 val_loss:0.0004 val_acc:1.0000\n",
      "\n",
      "Epoch 13: val_loss did not improve from 0.00032\n",
      "Epoch 14/50 – 64.6s – loss:0.0014 val_loss:0.0003 val_acc:1.0000\n",
      "\n",
      "Epoch 14: val_loss did not improve from 0.00032\n",
      "Epoch 15/50 – 64.1s – loss:0.0003 val_loss:0.0003 val_acc:1.0000\n",
      "\n",
      "Epoch 15: val_loss improved from 0.00032 to 0.00029, saving model to outputs/2018/LSTM/lstm_post_sequence_15pct_w10_trail001/best_lstm.keras\n",
      "Epoch 16/50 – 64.2s – loss:0.0004 val_loss:0.0005 val_acc:0.9999\n",
      "\n",
      "Epoch 16: val_loss did not improve from 0.00029\n",
      "Epoch 17/50 – 64.8s – loss:0.0003 val_loss:0.0003 val_acc:1.0000\n",
      "\n",
      "Epoch 17: val_loss improved from 0.00029 to 0.00027, saving model to outputs/2018/LSTM/lstm_post_sequence_15pct_w10_trail001/best_lstm.keras\n",
      "Epoch 18/50 – 64.3s – loss:0.0004 val_loss:0.0003 val_acc:0.9999\n",
      "\n",
      "Epoch 18: val_loss did not improve from 0.00027\n",
      "Epoch 19/50 – 64.6s – loss:0.0004 val_loss:0.0003 val_acc:0.9999\n",
      "\n",
      "Epoch 19: val_loss did not improve from 0.00027\n",
      "Epoch 20/50 – 63.9s – loss:0.0003 val_loss:0.0003 val_acc:1.0000\n",
      "\n",
      "Epoch 20: val_loss did not improve from 0.00027\n",
      "Epoch 21/50 – 64.7s – loss:0.0002 val_loss:0.0003 val_acc:0.9999\n",
      "\n",
      "Epoch 21: val_loss did not improve from 0.00027\n",
      "Epoch 22/50 – 63.5s – loss:0.0003 val_loss:0.0003 val_acc:1.0000\n",
      "\n",
      "Epoch 22: val_loss did not improve from 0.00027\n"
     ]
    },
    {
     "data": {
      "image/png": "[encoded data removed]",
      "text/plain": [
       "<Figure size 1200x500 with 2 Axes>"
      ]
     },
     "metadata": {},
     "output_type": "display_data"
    }
   ],
   "source": [
    "# ----------------------------\n",
    "# 5. Train/Test Split\n",
    "# ----------------------------\n",
    "split_idx = int(0.8 * len(X_seq))\n",
    "X_train, X_test = X_seq[:split_idx], X_seq[split_idx:]\n",
    "y_train, y_test = y_seq[:split_idx], y_seq[split_idx:]\n",
    "print(\"Train/test shapes:\", X_train.shape, X_test.shape)\n",
    "\n",
    "# one-hot encode for training\n",
    "num_classes  = len(encoder.classes_)\n",
    "y_train_cat  = to_categorical(y_train, num_classes)\n",
    "y_test_cat   = to_categorical(y_test,  num_classes)\n",
    "\n",
    "# ----------------------------\n",
    "# 6. Build & Train LSTM Model\n",
    "# ----------------------------\n",
    "class TimeHistory(Callback):\n",
    "    def on_epoch_begin(self, epoch, logs=None): self.start = time.time()\n",
    "    def on_epoch_end(self, epoch, logs=None):\n",
    "        dt = time.time()-self.start\n",
    "        print(f\"Epoch {epoch+1}/{self.params['epochs']} – {dt:.1f}s – \"\n",
    "              f\"loss:{logs['loss']:.4f} val_loss:{logs['val_loss']:.4f} \"\n",
    "              f\"val_acc:{logs['val_accuracy']:.4f}\")\n",
    "\n",
    "model = Sequential([\n",
    "    LSTM(64, return_sequences=True, input_shape=(window_size, X_scaled.shape[1])),\n",
    "    Dropout(0.2),\n",
    "    LSTM(32),\n",
    "    Dense(16, activation='relu'),\n",
    "    Dense(num_classes, activation='softmax')\n",
    "])\n",
    "model.compile(optimizer='adam', loss='categorical_crossentropy', metrics=['accuracy'])\n",
    "model.summary()\n",
    "\n",
    "callbacks = [\n",
    "    TimeHistory(),\n",
    "    EarlyStopping(monitor='val_loss', patience=5, restore_best_weights=True),\n",
    "    ModelCheckpoint(os.path.join(output_folder,\"best_lstm.keras\"),\n",
    "                    monitor='val_loss', save_best_only=True, verbose=1)\n",
    "]\n",
    "\n",
    "history = model.fit(\n",
    "    X_train, y_train_cat,\n",
    "    epochs=50, batch_size=128,\n",
    "    validation_split=0.125,\n",
    "    callbacks=callbacks,\n",
    "    verbose=0\n",
    ")\n",
    "\n",
    "model.save(os.path.join(output_folder,\"lstm_model.keras\"))\n",
    "pd.DataFrame(history.history).to_csv(\n",
    "    os.path.join(output_folder,\"training_history.csv\"), index=False\n",
    ")\n",
    "\n",
    "# plot training curves\n",
    "plt.figure(figsize=(12,5))\n",
    "plt.subplot(1,2,1)\n",
    "plt.plot(history.history['accuracy'], label='train_acc')\n",
    "plt.plot(history.history['val_accuracy'], label='val_acc')\n",
    "plt.legend(); plt.title(\"Accuracy\")\n",
    "plt.subplot(1,2,2)\n",
    "plt.plot(history.history['loss'], label='train_loss')\n",
    "plt.plot(history.history['val_loss'], label='val_loss')\n",
    "plt.legend(); plt.title(\"Loss\")\n",
    "plt.tight_layout()\n",
    "plt.savefig(os.path.join(output_folder,\"training_history.png\"))\n",
    "plt.show()"
   ]
  },
  {
   "cell_type": "code",
   "execution_count": null,
   "id": "3893ad06",
   "metadata": {},
   "outputs": [
    {
     "ename": "ModuleNotFoundError",
     "evalue": "No module named 'sns'",
     "output_type": "error",
     "traceback": [
      "\u001b[0;31m---------------------------------------------------------------------------\u001b[0m",
      "\u001b[0;31mModuleNotFoundError\u001b[0m                       Traceback (most recent call last)",
      "Cell \u001b[0;32mIn[1], line 1\u001b[0m\n\u001b[0;32m----> 1\u001b[0m \u001b[38;5;28;01mimport\u001b[39;00m \u001b[38;5;21;01msns\u001b[39;00m\n",
      "\u001b[0;31mModuleNotFoundError\u001b[0m: No module named 'sns'"
     ]
    }
   ],
   "source": [
    "import seaborn as sns\n"
   ]
  },
  {
   "cell_type": "code",
   "execution_count": 4,
   "id": "d88ba60a",
   "metadata": {},
   "outputs": [
    {
     "name": "stdout",
     "output_type": "stream",
     "text": [
      "Test loss:0.0003, acc:1.0000\n",
      "\u001b[1m  37/4069\u001b[0m \u001b[37m━━━━━━━━━━━━━━━━━━━━\u001b[0m \u001b[1m11s\u001b[0m 3ms/step   "
     ]
    },
    {
     "name": "stderr",
     "output_type": "stream",
     "text": [
      "2025-04-25 18:52:58.427279: E tensorflow/core/grappler/optimizers/meta_optimizer.cc:961] PluggableGraphOptimizer failed: INVALID_ARGUMENT: Failed to deserialize the `graph_buf`.\n"
     ]
    },
    {
     "name": "stdout",
     "output_type": "stream",
     "text": [
      "\u001b[1m4069/4069\u001b[0m \u001b[32m━━━━━━━━━━━━━━━━━━━━\u001b[0m\u001b[37m\u001b[0m \u001b[1m12s\u001b[0m 3ms/step\n",
      "\n",
      "                          precision    recall  f1-score   support\n",
      "\n",
      "                  Benign     1.0000    1.0000    1.0000     72301\n",
      "        DDOS attack-HOIC     1.0000    1.0000    1.0000     20736\n",
      "    DDOS attack-LOIC-UDP     1.0000    1.0000    1.0000        60\n",
      "  DDoS attacks-LOIC-HTTP     1.0000    0.9999    1.0000     17187\n",
      "   DoS attacks-GoldenEye     1.0000    0.9993    0.9997      1509\n",
      "        DoS attacks-Hulk     1.0000    0.9999    1.0000     13737\n",
      "DoS attacks-SlowHTTPTest     0.9995    1.0000    0.9998      4290\n",
      "   DoS attacks-Slowloris     0.9973    1.0000    0.9987       370\n",
      "\n",
      "                accuracy                         1.0000    130190\n",
      "               macro avg     0.9996    0.9999    0.9998    130190\n",
      "            weighted avg     1.0000    1.0000    1.0000    130190\n",
      "\n"
     ]
    },
    {
     "ename": "NameError",
     "evalue": "name 'sns' is not defined",
     "output_type": "error",
     "traceback": [
      "\u001b[0;31m---------------------------------------------------------------------------\u001b[0m",
      "\u001b[0;31mNameError\u001b[0m                                 Traceback (most recent call last)",
      "Cell \u001b[0;32mIn[4], line 24\u001b[0m\n\u001b[1;32m     22\u001b[0m cm \u001b[38;5;241m=\u001b[39m confusion_matrix(y_test_labels, y_pred_labels)\n\u001b[1;32m     23\u001b[0m fig, ax \u001b[38;5;241m=\u001b[39m plt\u001b[38;5;241m.\u001b[39msubplots(figsize\u001b[38;5;241m=\u001b[39m(\u001b[38;5;241m8\u001b[39m,\u001b[38;5;241m8\u001b[39m))\n\u001b[0;32m---> 24\u001b[0m sns\u001b[38;5;241m.\u001b[39mheatmap(cm, annot\u001b[38;5;241m=\u001b[39m\u001b[38;5;28;01mTrue\u001b[39;00m, fmt\u001b[38;5;241m=\u001b[39m\u001b[38;5;124m\"\u001b[39m\u001b[38;5;124md\u001b[39m\u001b[38;5;124m\"\u001b[39m, cmap\u001b[38;5;241m=\u001b[39m\u001b[38;5;124m\"\u001b[39m\u001b[38;5;124mBlues\u001b[39m\u001b[38;5;124m\"\u001b[39m,\n\u001b[1;32m     25\u001b[0m             xticklabels\u001b[38;5;241m=\u001b[39mclass_names, yticklabels\u001b[38;5;241m=\u001b[39mclass_names,\n\u001b[1;32m     26\u001b[0m             annot_kws\u001b[38;5;241m=\u001b[39m{\u001b[38;5;124m\"\u001b[39m\u001b[38;5;124msize\u001b[39m\u001b[38;5;124m\"\u001b[39m:\u001b[38;5;241m12\u001b[39m}, linewidths\u001b[38;5;241m=\u001b[39m\u001b[38;5;241m0.5\u001b[39m)\n\u001b[1;32m     27\u001b[0m ax\u001b[38;5;241m.\u001b[39mset_xlabel(\u001b[38;5;124m\"\u001b[39m\u001b[38;5;124mPredicted\u001b[39m\u001b[38;5;124m\"\u001b[39m); ax\u001b[38;5;241m.\u001b[39mset_ylabel(\u001b[38;5;124m\"\u001b[39m\u001b[38;5;124mTrue\u001b[39m\u001b[38;5;124m\"\u001b[39m); ax\u001b[38;5;241m.\u001b[39mset_title(\u001b[38;5;124m\"\u001b[39m\u001b[38;5;124mConfusion Matrix\u001b[39m\u001b[38;5;124m\"\u001b[39m)\n\u001b[1;32m     28\u001b[0m plt\u001b[38;5;241m.\u001b[39mtight_layout()\n",
      "\u001b[0;31mNameError\u001b[0m: name 'sns' is not defined"
     ]
    },
    {
     "data": {
      "image/png": "[encoded data removed]",
      "text/plain": [
       "<Figure size 800x800 with 1 Axes>"
      ]
     },
     "metadata": {},
     "output_type": "display_data"
    }
   ],
   "source": [
    "# ----------------------------\n",
    "# 7. Evaluation\n",
    "# ----------------------------\n",
    "test_loss, test_acc = model.evaluate(X_test, y_test_cat, verbose=0)\n",
    "print(f\"Test loss:{test_loss:.4f}, acc:{test_acc:.4f}\")\n",
    "\n",
    "# predict classes\n",
    "y_prob = model.predict(X_test)\n",
    "y_pred = np.argmax(y_prob, axis=1)\n",
    "\n",
    "# recover string labels via the saved encoder\n",
    "y_test_labels = encoder.inverse_transform(y_test)\n",
    "y_pred_labels = encoder.inverse_transform(y_pred)\n",
    "\n",
    "# classification report\n",
    "class_names = list(encoder.classes_)\n",
    "report = classification_report(y_test_labels, y_pred_labels,\n",
    "                               target_names=class_names, digits=4)\n",
    "print(\"\\n\" + report)\n",
    "\n",
    "# confusion matrix\n",
    "cm = confusion_matrix(y_test_labels, y_pred_labels)\n",
    "fig, ax = plt.subplots(figsize=(8,8))\n",
    "sns.heatmap(cm, annot=True, fmt=\"d\", cmap=\"Blues\",\n",
    "            xticklabels=class_names, yticklabels=class_names,\n",
    "            annot_kws={\"size\":12}, linewidths=0.5)\n",
    "ax.set_xlabel(\"Predicted\"); ax.set_ylabel(\"True\"); ax.set_title(\"Confusion Matrix\")\n",
    "plt.tight_layout()\n",
    "plt.savefig(os.path.join(output_folder,\"confusion_matrix.png\"))\n",
    "plt.show()\n",
    "\n",
    "# AUC-ROC\n",
    "y_test_bin = label_binarize(y_test, classes=list(range(num_classes)))\n",
    "auc = roc_auc_score(y_test_bin, y_prob, average=\"weighted\", multi_class=\"ovr\")\n",
    "print(f\"AUC-ROC: {auc:.4f}\")\n",
    "\n",
    "# save metrics\n",
    "with open(os.path.join(output_folder,\"test_evaluation_metrics.txt\"),\"w\") as f:\n",
    "    f.write(f\"Test loss: {test_loss:.4f}\\nTest acc: {test_acc:.4f}\\n\\n\")\n",
    "    f.write(\"Classification Report:\\n\"+report+\"\\n\")\n",
    "    f.write(\"Confusion Matrix:\\n\"+str(cm)+\"\\n\\n\")\n",
    "    f.write(f\"AUC-ROC: {auc:.4f}\\n\")\n",
    "\n",
    "print(\"Done. All outputs in\", output_folder)"
   ]
  }
 ],
 "metadata": {
  "kernelspec": {
   "display_name": "base",
   "language": "python",
   "name": "python3"
  },
  "language_info": {
   "codemirror_mode": {
    "name": "ipython",
    "version": 3
   },
   "file_extension": ".py",
   "mimetype": "text/x-python",
   "name": "python",
   "nbconvert_exporter": "python",
   "pygments_lexer": "ipython3",
   "version": "3.11.11"
  }
 },
 "nbformat": 4,
 "nbformat_minor": 5
}
